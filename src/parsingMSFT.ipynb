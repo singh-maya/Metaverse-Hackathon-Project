{
 "cells": [
  {
   "cell_type": "code",
   "execution_count": 4,
   "id": "ad6ff9c3-3a1d-4e95-9ce5-0d7503e4add3",
   "metadata": {},
   "outputs": [],
   "source": [
    "import pandas as pd"
   ]
  },
  {
   "cell_type": "code",
   "execution_count": 8,
   "id": "080c894d-ed53-4004-bce7-0fe5b315760e",
   "metadata": {},
   "outputs": [],
   "source": [
    "# Load the dataset\n",
    "df = pd.read_csv(filepath_or_buffer='../hackathon/Metaverse-Hackathon-Project/Datasets/MSFT.csv')"
   ]
  },
  {
   "cell_type": "code",
   "execution_count": 11,
   "id": "be03e29c-1a8f-4bdf-bb8b-89588155602e",
   "metadata": {},
   "outputs": [],
   "source": [
    "# Convert 'Date' column to datetime\n",
    "df['Date'] = pd.to_datetime(df['Date'])\n"
   ]
  },
  {
   "cell_type": "code",
   "execution_count": 13,
   "id": "a76e3430-6e01-4cb7-9c03-abe9c3c7ca52",
   "metadata": {},
   "outputs": [],
   "source": [
    "# Filter data for 2021-2022\n",
    "df = df[(df['Date'] >= '2021-01-01') & (df['Date'] <= '2022-12-31')]"
   ]
  },
  {
   "cell_type": "code",
   "execution_count": 15,
   "id": "05886e5e-6aef-43cf-b620-d1aa5c446b34",
   "metadata": {},
   "outputs": [],
   "source": [
    "# Set 'Date' as index\n",
    "df.set_index('Date', inplace=True)"
   ]
  },
  {
   "cell_type": "code",
   "execution_count": 28,
   "id": "74d0e9b0-e622-4537-8892-cd9ff3ec6d90",
   "metadata": {},
   "outputs": [
    {
     "data": {
      "text/plain": [
       "'/Users/lorrieaxelrod/Desktop/hackathon'"
      ]
     },
     "execution_count": 28,
     "metadata": {},
     "output_type": "execute_result"
    }
   ],
   "source": [
    "pwd"
   ]
  },
  {
   "cell_type": "code",
   "execution_count": null,
   "id": "cd37d224-9966-4fba-8c8b-5f3d2faba23a",
   "metadata": {},
   "outputs": [],
   "source": [
    "df.to_csv('Metaverse-Hackathon-Project/"
   ]
  }
 ],
 "metadata": {
  "kernelspec": {
   "display_name": "Python 3 (ipykernel)",
   "language": "python",
   "name": "python3"
  },
  "language_info": {
   "codemirror_mode": {
    "name": "ipython",
    "version": 3
   },
   "file_extension": ".py",
   "mimetype": "text/x-python",
   "name": "python",
   "nbconvert_exporter": "python",
   "pygments_lexer": "ipython3",
   "version": "3.12.5"
  }
 },
 "nbformat": 4,
 "nbformat_minor": 5
}
